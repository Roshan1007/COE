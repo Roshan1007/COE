{
 "cells": [
  {
   "cell_type": "code",
   "execution_count": null,
   "id": "711304f7-33d8-4afd-88d7-0ab89472510c",
   "metadata": {},
   "outputs": [],
   "source": [
    "from flask import Flask, request, jsonify\n",
    "import openai"
   ]
  },
  {
   "cell_type": "code",
   "execution_count": null,
   "id": "b52933e2-9592-4109-a6e6-8a943994bbc7",
   "metadata": {},
   "outputs": [],
   "source": [
    "app = Flask(__name__)\n",
    "\n",
    "# Replace with your OpenAI API key\n",
    "openai.api_key = \"your_openai_api_key\""
   ]
  },
  {
   "cell_type": "code",
   "execution_count": null,
   "id": "1f77b9b0-8154-4553-9e6c-f2078b805dc6",
   "metadata": {},
   "outputs": [],
   "source": [
    "@app.route('/generate-text', methods=['POST'])\n",
    "def generate_text():\n",
    "    data = request.json\n",
    "    prompt = data.get(\"prompt\", \"\")\n",
    "    max_tokens = data.get(\"max_tokens\", 150)\n",
    "\n",
    "    try:\n",
    "        response = openai.Completion.create(\n",
    "            engine=\"text-davinci-003\",  # Adjust based on the model you're using\n",
    "            prompt=prompt,\n",
    "            max_tokens=max_tokens\n",
    "        )\n",
    "        return jsonify(response.choices[0].text.strip())\n",
    "    except Exception as e:\n",
    "        return jsonify({\"error\": str(e)}), 500"
   ]
  },
  {
   "cell_type": "code",
   "execution_count": null,
   "id": "817a4111-4113-4788-aef6-630d6308f537",
   "metadata": {},
   "outputs": [],
   "source": [
    "if __name__ == '__main__':\n",
    "    app.run(host='0.0.0.0', port=5000)"
   ]
  }
 ],
 "metadata": {
  "kernelspec": {
   "display_name": "Python 3 (ipykernel)",
   "language": "python",
   "name": "python3"
  },
  "language_info": {
   "codemirror_mode": {
    "name": "ipython",
    "version": 3
   },
   "file_extension": ".py",
   "mimetype": "text/x-python",
   "name": "python",
   "nbconvert_exporter": "python",
   "pygments_lexer": "ipython3",
   "version": "3.11.7"
  }
 },
 "nbformat": 4,
 "nbformat_minor": 5
}
