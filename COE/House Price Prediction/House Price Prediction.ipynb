{
 "cells": [
  {
   "cell_type": "code",
   "execution_count": 1,
   "id": "9df2ae5f-9d1f-42c6-8165-101aef26c477",
   "metadata": {},
   "outputs": [
    {
     "name": "stdout",
     "output_type": "stream",
     "text": [
      "   Id  MSSubClass MSZoning  LotFrontage  LotArea Street Alley LotShape  \\\n",
      "0   1          60       RL         65.0     8450   Pave   NaN      Reg   \n",
      "1   2          20       RL         80.0     9600   Pave   NaN      Reg   \n",
      "2   3          60       RL         68.0    11250   Pave   NaN      IR1   \n",
      "3   4          70       RL         60.0     9550   Pave   NaN      IR1   \n",
      "4   5          60       RL         84.0    14260   Pave   NaN      IR1   \n",
      "\n",
      "  LandContour Utilities  ... PoolArea PoolQC Fence MiscFeature MiscVal MoSold  \\\n",
      "0         Lvl    AllPub  ...        0    NaN   NaN         NaN       0      2   \n",
      "1         Lvl    AllPub  ...        0    NaN   NaN         NaN       0      5   \n",
      "2         Lvl    AllPub  ...        0    NaN   NaN         NaN       0      9   \n",
      "3         Lvl    AllPub  ...        0    NaN   NaN         NaN       0      2   \n",
      "4         Lvl    AllPub  ...        0    NaN   NaN         NaN       0     12   \n",
      "\n",
      "  YrSold  SaleType  SaleCondition  SalePrice  \n",
      "0   2008        WD         Normal     208500  \n",
      "1   2007        WD         Normal     181500  \n",
      "2   2008        WD         Normal     223500  \n",
      "3   2006        WD        Abnorml     140000  \n",
      "4   2008        WD         Normal     250000  \n",
      "\n",
      "[5 rows x 81 columns]\n"
     ]
    }
   ],
   "source": [
    "import pandas as pd\n",
    "\n",
    "# Load the datasets\n",
    "train_df = pd.read_csv('data/train.csv')\n",
    "test_df = pd.read_csv('data/test.csv')\n",
    "sample_submission_df = pd.read_csv('data/sample_submission.csv')\n",
    "\n",
    "# Display the first few rows of the training data\n",
    "print(train_df.head())\n"
   ]
  },
  {
   "cell_type": "code",
   "execution_count": 4,
   "id": "1ce4924b-f339-4254-bee1-448bc94003fd",
   "metadata": {},
   "outputs": [
    {
     "data": {
      "text/plain": [
       "PoolQC          1453\n",
       "MiscFeature     1406\n",
       "Alley           1369\n",
       "Fence           1179\n",
       "MasVnrType       872\n",
       "FireplaceQu      690\n",
       "LotFrontage      259\n",
       "GarageYrBlt       81\n",
       "GarageCond        81\n",
       "GarageType        81\n",
       "GarageFinish      81\n",
       "GarageQual        81\n",
       "BsmtFinType2      38\n",
       "BsmtExposure      38\n",
       "BsmtQual          37\n",
       "BsmtCond          37\n",
       "BsmtFinType1      37\n",
       "MasVnrArea         8\n",
       "Electrical         1\n",
       "dtype: int64"
      ]
     },
     "execution_count": 4,
     "metadata": {},
     "output_type": "execute_result"
    }
   ],
   "source": [
    "missing_values = train_df.isnull().sum().sort_values(ascending=False)\n",
    "missing_values[missing_values > 0]"
   ]
  },
  {
   "cell_type": "code",
   "execution_count": 5,
   "id": "11e2c0f0-4ac0-4f9d-814f-b6ee7ecd3e48",
   "metadata": {},
   "outputs": [],
   "source": [
    "# Drop columns with a large number of missing values\n",
    "cols_to_drop = ['PoolQC', 'MiscFeature', 'Alley', 'Fence']\n",
    "train_df = train_df.drop(columns=cols_to_drop)"
   ]
  },
  {
   "cell_type": "code",
   "execution_count": 6,
   "id": "51beca1f-4378-4cd7-b90c-a5c98c6ec1e8",
   "metadata": {},
   "outputs": [],
   "source": [
    "# Impute missing values\n",
    "# For numerical columns, use the median\n",
    "num_cols = train_df.select_dtypes(include=['float64', 'int64']).columns\n",
    "train_df[num_cols] = train_df[num_cols].fillna(train_df[num_cols].median())\n",
    "\n",
    "# For categorical columns, use the mode\n",
    "cat_cols = train_df.select_dtypes(include=['object']).columns\n",
    "train_df[cat_cols] = train_df[cat_cols].fillna(train_df[cat_cols].mode().iloc[0])"
   ]
  },
  {
   "cell_type": "code",
   "execution_count": 7,
   "id": "51cfd1e3-b0d5-4e87-9570-b6301337f02c",
   "metadata": {},
   "outputs": [
    {
     "data": {
      "text/plain": [
       "0"
      ]
     },
     "execution_count": 7,
     "metadata": {},
     "output_type": "execute_result"
    }
   ],
   "source": [
    "train_df.isnull().sum().sum()"
   ]
  },
  {
   "cell_type": "code",
   "execution_count": 8,
   "id": "a0301103-118a-460e-8d79-ec1515d9efac",
   "metadata": {},
   "outputs": [
    {
     "name": "stdout",
     "output_type": "stream",
     "text": [
      "   Id  MSSubClass MSZoning  LotFrontage  LotArea Street LotShape LandContour  \\\n",
      "0   1          60       RL         65.0     8450   Pave      Reg         Lvl   \n",
      "1   2          20       RL         80.0     9600   Pave      Reg         Lvl   \n",
      "2   3          60       RL         68.0    11250   Pave      IR1         Lvl   \n",
      "3   4          70       RL         60.0     9550   Pave      IR1         Lvl   \n",
      "4   5          60       RL         84.0    14260   Pave      IR1         Lvl   \n",
      "\n",
      "  Utilities LotConfig  ... OpenPorchSF EnclosedPorch 3SsnPorch ScreenPorch  \\\n",
      "0    AllPub    Inside  ...          61             0         0           0   \n",
      "1    AllPub       FR2  ...           0             0         0           0   \n",
      "2    AllPub    Inside  ...          42             0         0           0   \n",
      "3    AllPub    Corner  ...          35           272         0           0   \n",
      "4    AllPub       FR2  ...          84             0         0           0   \n",
      "\n",
      "  PoolArea MiscVal  MoSold  YrSold  SaleType  SaleCondition  \n",
      "0        0       0       2    2008        WD         Normal  \n",
      "1        0       0       5    2007        WD         Normal  \n",
      "2        0       0       9    2008        WD         Normal  \n",
      "3        0       0       2    2006        WD        Abnorml  \n",
      "4        0       0      12    2008        WD         Normal  \n",
      "\n",
      "[5 rows x 76 columns]\n"
     ]
    }
   ],
   "source": [
    "# Separate features and target variable\n",
    "X_train = train_df.drop('SalePrice', axis=1)\n",
    "y_train = train_df['SalePrice']\n",
    "\n",
    "# Check the processed training data\n",
    "print(X_train.head())"
   ]
  },
  {
   "cell_type": "code",
   "execution_count": 9,
   "id": "f947be97-ab1e-4859-bdcd-e5e46bb8d18c",
   "metadata": {},
   "outputs": [
    {
     "name": "stdout",
     "output_type": "stream",
     "text": [
      "   OverallQual  GrLivArea  GarageCars  TotalBsmtSF  FullBath  YearBuilt\n",
      "0            7       1710           2          856         2       2003\n",
      "1            6       1262           2         1262         2       1976\n",
      "2            7       1786           2          920         2       2001\n",
      "3            7       1717           3          756         1       1915\n",
      "4            8       2198           3         1145         2       2000\n"
     ]
    }
   ],
   "source": [
    "# Select a subset of features for simplicity\n",
    "selected_features = ['OverallQual', 'GrLivArea', 'GarageCars', 'TotalBsmtSF', 'FullBath', 'YearBuilt']\n",
    "X_train = X_train[selected_features]\n",
    "\n",
    "# Check the selected features\n",
    "print(X_train.head())\n"
   ]
  },
  {
   "cell_type": "code",
   "execution_count": 10,
   "id": "2caca5f6-7f4b-4f50-8f6c-b48992e01117",
   "metadata": {},
   "outputs": [
    {
     "name": "stdout",
     "output_type": "stream",
     "text": [
      "[20519.96877576    54.07582887 14646.3158134     29.18210823\n",
      " -5503.97370911   336.54674956]\n"
     ]
    }
   ],
   "source": [
    "from sklearn.linear_model import LinearRegression\n",
    "\n",
    "# Initialize the model\n",
    "model = LinearRegression()\n",
    "\n",
    "# Train the model\n",
    "model.fit(X_train, y_train)\n",
    "\n",
    "# Check the model coefficients\n",
    "print(model.coef_)\n"
   ]
  },
  {
   "cell_type": "code",
   "execution_count": 11,
   "id": "42fa5bfa-9d89-4def-b33d-ef5e3393b517",
   "metadata": {},
   "outputs": [
    {
     "name": "stdout",
     "output_type": "stream",
     "text": [
      "Mean Squared Error: 1459092344.1501384\n"
     ]
    }
   ],
   "source": [
    "from sklearn.metrics import mean_squared_error\n",
    "\n",
    "# Predict on the training data\n",
    "y_train_pred = model.predict(X_train)\n",
    "\n",
    "# Calculate the mean squared error\n",
    "mse = mean_squared_error(y_train, y_train_pred)\n",
    "print(f'Mean Squared Error: {mse}')\n"
   ]
  },
  {
   "cell_type": "code",
   "execution_count": 17,
   "id": "f2793a5e-470b-4a39-9498-f37571a4f18d",
   "metadata": {},
   "outputs": [
    {
     "name": "stdout",
     "output_type": "stream",
     "text": [
      "Submission file saved.\n"
     ]
    }
   ],
   "source": [
    "# Preprocess the test dataset\n",
    "num_cols = test_df.select_dtypes(include=['float64', 'int64']).columns\n",
    "test_df[num_cols] = test_df[num_cols].fillna(test_df[num_cols].median())\n",
    "\n",
    "cat_cols = test_df.select_dtypes(include=['object']).columns\n",
    "test_df[cat_cols] = test_df[cat_cols].fillna(test_df[cat_cols].mode())\n",
    "\n",
    "# Ensure the test data has the same columns as the training data\n",
    "missing_cols = set(X_train.columns) - set(test_df.columns)\n",
    "for col in missing_cols:\n",
    "    test_df[col] = 0\n",
    "test_df = test_df[X_train.columns]\n",
    "\n",
    "# Make predictions on the test data\n",
    "test_predictions = model.predict(test_df)\n",
    "\n",
    "# Prepare the submission file\n",
    "submission_df = sample_submission_df.copy()\n",
    "submission_df['SalePrice'] = test_predictions\n",
    "\n",
    "#  Save the submission file\n",
    "submission_df.to_csv('data/submission.csv', index=False)\n",
    "print('Submission file saved.')\n"
   ]
  },
  {
   "cell_type": "code",
   "execution_count": null,
   "id": "67e74036-23ee-41c2-a47b-bc125a417358",
   "metadata": {},
   "outputs": [],
   "source": []
  }
 ],
 "metadata": {
  "kernelspec": {
   "display_name": "Python 3 (ipykernel)",
   "language": "python",
   "name": "python3"
  },
  "language_info": {
   "codemirror_mode": {
    "name": "ipython",
    "version": 3
   },
   "file_extension": ".py",
   "mimetype": "text/x-python",
   "name": "python",
   "nbconvert_exporter": "python",
   "pygments_lexer": "ipython3",
   "version": "3.11.7"
  }
 },
 "nbformat": 4,
 "nbformat_minor": 5
}
