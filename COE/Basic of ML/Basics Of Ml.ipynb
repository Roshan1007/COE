{
 "cells": [
  {
   "cell_type": "code",
   "execution_count": 25,
   "id": "b8cb2259-7e62-462c-8148-7f688ca78a78",
   "metadata": {},
   "outputs": [
    {
     "name": "stdout",
     "output_type": "stream",
     "text": [
      "The posterior probability of having the disease given a positive test is: 16.6667\n"
     ]
    }
   ],
   "source": [
    "#Applying Bayes Theorem\n",
    "def bayes_theorem(prior, likelihood, marginal_likelihood):\n",
    "    posterior = (likelihood * prior) / marginal_likelihood\n",
    "    return posterior\n",
    "    \n",
    "#assumed values\n",
    "prior = 0.01  \n",
    "likelihood = 0.99  \n",
    "false_positive_rate = 0.05 \n",
    "false_negative_rate = 1 - likelihood \n",
    "\n",
    "marginal_likelihood = (likelihood * prior) + (false_positive_rate * (1 - prior))\n",
    "\n",
    "posterior = bayes_theorem(prior, likelihood, marginal_likelihood)\n",
    "\n",
    "print(\"The posterior probability of having the disease given a positive test is: \" + str(round(posterior*100, 4)))\n"
   ]
  },
  {
   "cell_type": "code",
   "execution_count": 10,
   "id": "516757e6-f2d8-4313-88fd-5813e584a5d2",
   "metadata": {},
   "outputs": [
    {
     "data": {
      "text/plain": [
       "(array([4., 3., 2.]),\n",
       " array([[ 1.        , -0.70710678, -0.72760688],\n",
       "        [ 0.        ,  0.70710678,  0.48507125],\n",
       "        [ 0.        ,  0.        ,  0.48507125]]))"
      ]
     },
     "execution_count": 10,
     "metadata": {},
     "output_type": "execute_result"
    }
   ],
   "source": [
    "#finding eigen values and eigen vectors\n",
    "import numpy as np\n",
    "\n",
    "# assume a matrix \n",
    "A = np.array([[4, 1, 2],\n",
    "              [0, 3, -1],\n",
    "              [0, 0, 2]])\n",
    "\n",
    "# Calculating eigenvalues and eigenvectors\n",
    "eigenvalues, eigenvectors = np.linalg.eig(A)\n",
    "eigenvalues, eigenvectors"
   ]
  },
  {
   "cell_type": "code",
   "execution_count": 18,
   "id": "87e2450e-b225-465f-b178-4bebc897c33f",
   "metadata": {},
   "outputs": [
    {
     "name": "stdout",
     "output_type": "stream",
     "text": [
      "Determinant: 9.000000000000005\n",
      "Inverse: [[-0.33333333 -2.11111111  1.44444444]\n",
      " [ 0.66666667  1.22222222 -0.88888889]\n",
      " [-0.33333333  0.55555556 -0.22222222]]\n"
     ]
    }
   ],
   "source": [
    "#calculating determinant of a 3x3 matrix and finding its inverse if possible\n",
    "# assume a matrix\n",
    "B = np.array([[2, 3, 1],\n",
    "              [4, 5, 6],\n",
    "              [7, 8, 9]])\n",
    "\n",
    "# Calculating the determinant\n",
    "det = np.linalg.det(B)\n",
    "print(\"Determinant:\", det)\n",
    "\n",
    "# Calculating the inverse if the determinant is non-zero\n",
    "if det != 0:\n",
    "    inv = np.linalg.inv(B)\n",
    "    print(\"Inverse:\", inv)"
   ]
  },
  {
   "cell_type": "code",
   "execution_count": 24,
   "id": "56f788d5-2a15-4626-98dc-5d80b0252ce5",
   "metadata": {},
   "outputs": [
    {
     "name": "stdout",
     "output_type": "stream",
     "text": [
      "P(X < 1): 0.8413447460685429\n"
     ]
    }
   ],
   "source": [
    "# Normal distribution and calculating probabilities \n",
    "import scipy.stats as stats\n",
    "\n",
    "mean = 0\n",
    "stddev = 1\n",
    "\n",
    "normal_dist = stats.norm(mean, stddev)\n",
    "\n",
    "#Calculating the probability that a value is less than 1 (P(X < 1))\n",
    "prob_less_than_1 = normal_dist.cdf(1)\n",
    "print(\"P(X < 1):\", prob_less_than_1)\n"
   ]
  }
 ],
 "metadata": {
  "kernelspec": {
   "display_name": "Python 3 (ipykernel)",
   "language": "python",
   "name": "python3"
  },
  "language_info": {
   "codemirror_mode": {
    "name": "ipython",
    "version": 3
   },
   "file_extension": ".py",
   "mimetype": "text/x-python",
   "name": "python",
   "nbconvert_exporter": "python",
   "pygments_lexer": "ipython3",
   "version": "3.11.7"
  }
 },
 "nbformat": 4,
 "nbformat_minor": 5
}
