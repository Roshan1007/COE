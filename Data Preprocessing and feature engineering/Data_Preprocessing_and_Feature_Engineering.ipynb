{
 "cells": [
  {
   "cell_type": "code",
   "execution_count": 47,
   "id": "5da4d4e4-4bb8-416e-a7d4-a0c770dc149b",
   "metadata": {},
   "outputs": [],
   "source": [
    "import numpy as np\n",
    "import pandas as pd\n",
    "import seaborn as sns\n",
    "from matplotlib import pyplot as plt\n",
    "\n",
    "import missingno as msno\n",
    "from datetime import date\n",
    "from sklearn.metrics import accuracy_score\n",
    "from sklearn.model_selection import train_test_split\n",
    "from sklearn.neighbors import LocalOutlierFactor\n",
    "from sklearn.preprocessing import MinMaxScaler, LabelEncoder, StandardScaler, RobustScaler"
   ]
  },
  {
   "cell_type": "code",
   "execution_count": 48,
   "id": "4d5866c6-2dde-4940-8e98-e3217a753efe",
   "metadata": {},
   "outputs": [],
   "source": [
    "df = pd.read_csv(\"data/survey_results_public.csv\")"
   ]
  },
  {
   "cell_type": "code",
   "execution_count": 49,
   "id": "5252eb4f-302e-44c5-8040-a88506c2928d",
   "metadata": {},
   "outputs": [
    {
     "name": "stdout",
     "output_type": "stream",
     "text": [
      "(88883, 85)\n"
     ]
    }
   ],
   "source": [
    "print(df.shape)"
   ]
  },
  {
   "cell_type": "code",
   "execution_count": 50,
   "id": "7bd50d0d-215e-4aa8-a9c0-07a11b426cd3",
   "metadata": {},
   "outputs": [
    {
     "data": {
      "image/png": "[encoded data removed]",
      "text/plain": [
       "<Figure size 640x480 with 1 Axes>"
      ]
     },
     "metadata": {},
     "output_type": "display_data"
    }
   ],
   "source": [
    "x=df[\"Age\"]\n",
    "sns.boxplot(x)\n",
    "plt.show()"
   ]
  },
  {
   "cell_type": "code",
   "execution_count": 51,
   "id": "61d1a39f-0119-4a98-be44-84d270f1973c",
   "metadata": {},
   "outputs": [],
   "source": [
    "q1 = df[\"Age\"].quantile(0.25)\n",
    "q3 = df[\"Age\"].quantile(0.75)\n",
    "iqr = q3 - q1\n",
    "up = q3 + 1.5 * iqr\n",
    "low = q1 - 1.5 * iqr\n",
    "# print(df[(df[\"Age\"] < low) | (df[\"Age\"] > up)])"
   ]
  },
  {
   "cell_type": "code",
   "execution_count": 52,
   "id": "977c4fb4-e0d2-43b7-9909-e5d7203f2df5",
   "metadata": {},
   "outputs": [
    {
     "name": "stdout",
     "output_type": "stream",
     "text": [
      "Index([   44,   107,   110,   133,   191,   212,   220,   373,   390,   429,\n",
      "       ...\n",
      "       88709, 88724, 88739, 88779, 88811, 88818, 88828, 88850, 88865, 88870],\n",
      "      dtype='int64', length=2691)\n"
     ]
    }
   ],
   "source": [
    "print(df[(df[\"Age\"] < low) | (df[\"Age\"] > up)].index)"
   ]
  },
  {
   "cell_type": "code",
   "execution_count": 53,
   "id": "401843fc-29b5-4170-83ee-f99ff0f2196d",
   "metadata": {},
   "outputs": [
    {
     "name": "stdout",
     "output_type": "stream",
     "text": [
      "True\n"
     ]
    }
   ],
   "source": [
    "print(df[(df[\"Age\"] < low) | (df[\"Age\"] > up)].any(axis=None))"
   ]
  },
  {
   "cell_type": "code",
   "execution_count": 54,
   "id": "69539553-fe9f-4b14-82c7-68b108f36d21",
   "metadata": {},
   "outputs": [
    {
     "name": "stdout",
     "output_type": "stream",
     "text": [
      "True\n"
     ]
    }
   ],
   "source": [
    "print(df[(df[\"Age\"] < low)].any(axis=None))"
   ]
  },
  {
   "cell_type": "code",
   "execution_count": 55,
   "id": "43ce59d3-6bb3-4fa6-a8b8-0391bd5e4e5e",
   "metadata": {},
   "outputs": [
    {
     "name": "stdout",
     "output_type": "stream",
     "text": [
      "(7.5, 51.5)\n"
     ]
    }
   ],
   "source": [
    "def outlier_thresholds(dataframe, col_name, q1=0.25, q3=0.75):\n",
    "    quartile1 = dataframe[col_name].quantile(q1)\n",
    "    quartile3 = dataframe[col_name].quantile(q3)\n",
    "    interquantile_range = quartile3 - quartile1\n",
    "    up_limit = quartile3 + 1.5 * interquantile_range\n",
    "    low_limit = quartile1 - 1.5 * interquantile_range\n",
    "    return low_limit, up_limit\n",
    "\n",
    "print(outlier_thresholds(df, \"Age\"))"
   ]
  },
  {
   "cell_type": "code",
   "execution_count": 56,
   "id": "6e43cc08-1418-45c3-9be3-b4d61108976f",
   "metadata": {},
   "outputs": [
    {
     "name": "stdout",
     "output_type": "stream",
     "text": [
      "   Respondent                                         MainBranch Hobbyist  \\\n",
      "3           4                     I am a developer by profession       No   \n",
      "4           5                     I am a developer by profession      Yes   \n",
      "5           6  I am not primarily a developer, but I write co...      Yes   \n",
      "6           7                     I am a developer by profession       No   \n",
      "8           9                     I am a developer by profession      Yes   \n",
      "\n",
      "                  OpenSourcer  \\\n",
      "3                       Never   \n",
      "4  Once a month or more often   \n",
      "5                       Never   \n",
      "6                       Never   \n",
      "8  Once a month or more often   \n",
      "\n",
      "                                          OpenSource  \\\n",
      "3  The quality of OSS and closed source software ...   \n",
      "4  OSS is, on average, of HIGHER quality than pro...   \n",
      "5  The quality of OSS and closed source software ...   \n",
      "6  The quality of OSS and closed source software ...   \n",
      "8  The quality of OSS and closed source software ...   \n",
      "\n",
      "                                          Employment        Country Student  \\\n",
      "3                                 Employed full-time  United States      No   \n",
      "4                                 Employed full-time        Ukraine      No   \n",
      "5                                 Employed full-time         Canada      No   \n",
      "6  Independent contractor, freelancer, or self-em...        Ukraine      No   \n",
      "8                                 Employed full-time    New Zealand      No   \n",
      "\n",
      "                                             EdLevel  \\\n",
      "3           Bachelor’s degree (BA, BS, B.Eng., etc.)   \n",
      "4           Bachelor’s degree (BA, BS, B.Eng., etc.)   \n",
      "5           Bachelor’s degree (BA, BS, B.Eng., etc.)   \n",
      "6           Bachelor’s degree (BA, BS, B.Eng., etc.)   \n",
      "8  Some college/university study without earning ...   \n",
      "\n",
      "                                      UndergradMajor  ...  \\\n",
      "3  Computer science, computer engineering, or sof...  ...   \n",
      "4  Computer science, computer engineering, or sof...  ...   \n",
      "5                          Mathematics or statistics  ...   \n",
      "6  Another engineering discipline (ex. civil, ele...  ...   \n",
      "8  Computer science, computer engineering, or sof...  ...   \n",
      "\n",
      "                             WelcomeChange  \\\n",
      "3  Just as welcome now as I felt last year   \n",
      "4  Just as welcome now as I felt last year   \n",
      "5  Just as welcome now as I felt last year   \n",
      "6    A lot more welcome now than last year   \n",
      "8  Just as welcome now as I felt last year   \n",
      "\n",
      "                                        SONewContent   Age Gender Trans  \\\n",
      "3  Tech articles written by other developers;Indu...  22.0    Man    No   \n",
      "4  Tech meetups or events in your area;Courses on...  30.0    Man    No   \n",
      "5  Tech articles written by other developers;Indu...  28.0    Man    No   \n",
      "6                                                NaN  42.0    Man    No   \n",
      "8                                                NaN  23.0    Man    No   \n",
      "\n",
      "                 Sexuality                                 Ethnicity  \\\n",
      "3  Straight / Heterosexual              White or of European descent   \n",
      "4  Straight / Heterosexual  White or of European descent;Multiracial   \n",
      "5  Straight / Heterosexual                                East Asian   \n",
      "6  Straight / Heterosexual              White or of European descent   \n",
      "8                 Bisexual              White or of European descent   \n",
      "\n",
      "  Dependents           SurveyLength                  SurveyEase  \n",
      "3         No  Appropriate in length                        Easy  \n",
      "4         No  Appropriate in length                        Easy  \n",
      "5         No               Too long  Neither easy nor difficult  \n",
      "6        Yes  Appropriate in length  Neither easy nor difficult  \n",
      "8         No  Appropriate in length  Neither easy nor difficult  \n",
      "\n",
      "[5 rows x 85 columns]\n"
     ]
    }
   ],
   "source": [
    "low, up = outlier_thresholds(df, \"WorkWeekHrs\")\n",
    "print(df[(df[\"WorkWeekHrs\"] < low) | (df[\"WorkWeekHrs\"] > up)].head())"
   ]
  },
  {
   "cell_type": "code",
   "execution_count": 57,
   "id": "f23cee46-2766-4c00-a07a-cb10d8a55242",
   "metadata": {},
   "outputs": [
    {
     "name": "stdout",
     "output_type": "stream",
     "text": [
      "True\n",
      "True\n"
     ]
    }
   ],
   "source": [
    "def check_outlier(dataframe, col_name):\n",
    "    low_limit, up_limit = outlier_thresholds(dataframe, col_name)\n",
    "    if dataframe[(dataframe[col_name] > up_limit) | (dataframe[col_name] < low_limit)].any(axis=None):\n",
    "        return True\n",
    "    else:\n",
    "        return False\n",
    "\n",
    "print(check_outlier(df, \"Age\"))\n",
    "print(check_outlier(df, \"WorkWeekHrs\"))"
   ]
  },
  {
   "cell_type": "code",
   "execution_count": 58,
   "id": "33332d07-4e05-4bed-a90c-a1b0ebef5f56",
   "metadata": {},
   "outputs": [
    {
     "name": "stdout",
     "output_type": "stream",
     "text": [
      "Observations: 88883\n",
      "Variables: 85\n",
      "cat_cols: 54\n",
      "num_cols: 6\n",
      "cat_but_car: 25\n",
      "num_but_cat: 0\n"
     ]
    }
   ],
   "source": [
    "def grab_col_names(dataframe, cat_th=10, car_th=20):\n",
    "    cat_cols = [col for col in dataframe.columns if dataframe[col].dtypes == \"O\"]\n",
    "    num_but_cat = [col for col in dataframe.columns if dataframe[col].nunique() < cat_th and dataframe[col].dtypes != \"O\"]\n",
    "    cat_but_car = [col for col in dataframe.columns if dataframe[col].nunique() > car_th and dataframe[col].dtypes == \"O\"]\n",
    "    cat_cols = cat_cols + num_but_cat\n",
    "    cat_cols = [col for col in cat_cols if col not in cat_but_car]\n",
    "    num_cols = [col for col in dataframe.columns if dataframe[col].dtypes != \"O\" and col not in num_but_cat]\n",
    "\n",
    "    print(f\"Observations: {dataframe.shape[0]}\")\n",
    "    print(f\"Variables: {dataframe.shape[1]}\")\n",
    "    print(f\"cat_cols: {len(cat_cols)}\")\n",
    "    print(f\"num_cols: {len(num_cols)}\")\n",
    "    print(f\"cat_but_car: {len(cat_but_car)}\")\n",
    "    print(f\"num_but_cat: {len(num_but_cat)}\")\n",
    "    return cat_cols, num_cols, cat_but_car\n",
    "    \n",
    "cat_cols, num_cols, cat_but_car = grab_col_names(df)"
   ]
  },
  {
   "cell_type": "code",
   "execution_count": 59,
   "id": "ed3b9b6e-3a34-42d7-8034-d1ec9cc48882",
   "metadata": {},
   "outputs": [
    {
     "name": "stdout",
     "output_type": "stream",
     "text": [
      "['Respondent', 'CompTotal', 'ConvertedComp', 'WorkWeekHrs', 'CodeRevHrs', 'Age']\n",
      "Respondent False\n",
      "CompTotal True\n",
      "ConvertedComp True\n",
      "WorkWeekHrs True\n",
      "CodeRevHrs True\n",
      "Age True\n"
     ]
    }
   ],
   "source": [
    "num_cols = [col for col in num_cols if col not in \"PassengerId\"]\n",
    "print(num_cols)  \n",
    "\n",
    "for col in num_cols:\n",
    "    print(col, check_outlier(df, col))"
   ]
  },
  {
   "cell_type": "code",
   "execution_count": 60,
   "id": "f4fe3338-b812-4830-aa17-5e7b682a52ed",
   "metadata": {},
   "outputs": [
    {
     "name": "stdout",
     "output_type": "stream",
     "text": [
      "     Respondent                                         MainBranch Hobbyist  \\\n",
      "44           45  I am not primarily a developer, but I write co...      Yes   \n",
      "107         108                     I am a developer by profession      Yes   \n",
      "110         111                     I am a developer by profession      Yes   \n",
      "133         134  I am not primarily a developer, but I write co...      Yes   \n",
      "191         193                     I am a developer by profession       No   \n",
      "\n",
      "                 OpenSourcer  \\\n",
      "44                     Never   \n",
      "107  Less than once per year   \n",
      "110                    Never   \n",
      "133  Less than once per year   \n",
      "191                    Never   \n",
      "\n",
      "                                            OpenSource  \\\n",
      "44   The quality of OSS and closed source software ...   \n",
      "107  OSS is, on average, of HIGHER quality than pro...   \n",
      "110  The quality of OSS and closed source software ...   \n",
      "133  OSS is, on average, of LOWER quality than prop...   \n",
      "191  The quality of OSS and closed source software ...   \n",
      "\n",
      "                                            Employment         Country  \\\n",
      "44                                  Employed full-time   United States   \n",
      "107                                 Employed full-time   United States   \n",
      "110                                 Employed full-time   United States   \n",
      "133                                 Employed full-time          Greece   \n",
      "191  Independent contractor, freelancer, or self-em...  United Kingdom   \n",
      "\n",
      "    Student                                      EdLevel  \\\n",
      "44       No  Master’s degree (MA, MS, M.Eng., MBA, etc.)   \n",
      "107      No     Bachelor’s degree (BA, BS, B.Eng., etc.)   \n",
      "110      No     Bachelor’s degree (BA, BS, B.Eng., etc.)   \n",
      "133      No  Master’s degree (MA, MS, M.Eng., MBA, etc.)   \n",
      "191      No     Bachelor’s degree (BA, BS, B.Eng., etc.)   \n",
      "\n",
      "                                        UndergradMajor  ...  \\\n",
      "44   Another engineering discipline (ex. civil, ele...  ...   \n",
      "107  Another engineering discipline (ex. civil, ele...  ...   \n",
      "110  Computer science, computer engineering, or sof...  ...   \n",
      "133  Computer science, computer engineering, or sof...  ...   \n",
      "191  A humanities discipline (ex. literature, histo...  ...   \n",
      "\n",
      "                                         WelcomeChange  \\\n",
      "44   Not applicable - I did not use Stack Overflow ...   \n",
      "107            Just as welcome now as I felt last year   \n",
      "110           Somewhat less welcome now than last year   \n",
      "133           Somewhat more welcome now than last year   \n",
      "191            Just as welcome now as I felt last year   \n",
      "\n",
      "                                          SONewContent   Age Gender Trans  \\\n",
      "44   Tech articles written by other developers;Cour...  62.0    Man    No   \n",
      "107          Tech articles written by other developers  64.0    Man    No   \n",
      "110          Tech articles written by other developers  54.0    Man    No   \n",
      "133  Industry news about technologies you're intere...  54.0    Man    No   \n",
      "191                Tech meetups or events in your area  56.0    Man    No   \n",
      "\n",
      "                   Sexuality                     Ethnicity Dependents  \\\n",
      "44   Straight / Heterosexual  White or of European descent         No   \n",
      "107  Straight / Heterosexual  White or of European descent         No   \n",
      "110  Straight / Heterosexual  White or of European descent        Yes   \n",
      "133  Straight / Heterosexual  White or of European descent        Yes   \n",
      "191  Straight / Heterosexual  White or of European descent         No   \n",
      "\n",
      "              SurveyLength                  SurveyEase  \n",
      "44   Appropriate in length  Neither easy nor difficult  \n",
      "107  Appropriate in length  Neither easy nor difficult  \n",
      "110               Too long                        Easy  \n",
      "133               Too long  Neither easy nor difficult  \n",
      "191  Appropriate in length                        Easy  \n",
      "\n",
      "[5 rows x 85 columns]\n"
     ]
    }
   ],
   "source": [
    "def grab_outliers(dataframe, col_name, outlier_index=False, f = 5):\n",
    "    low, up = outlier_thresholds(dataframe, col_name)\n",
    "\n",
    "    if dataframe[((dataframe[col_name] < low) | (dataframe[col_name] > up))].shape[0] > 10:\n",
    "        print(dataframe[((dataframe[col_name] < low) | (dataframe[col_name] > up))].head(f))\n",
    "    else:\n",
    "        print(dataframe[((dataframe[col_name] < low) | (dataframe[col_name] > up))])\n",
    "\n",
    "    if outlier_index:\n",
    "        out_index = dataframe[((dataframe[col_name] < low) | (dataframe[col_name] > up))].index\n",
    "        return out_index\n",
    "age_index = grab_outliers(df, \"Age\", True)"
   ]
  },
  {
   "cell_type": "code",
   "execution_count": 61,
   "id": "ec4b7285-e031-4a88-8bbd-2029228afc75",
   "metadata": {},
   "outputs": [
    {
     "name": "stdout",
     "output_type": "stream",
     "text": [
      "Index([   44,   107,   110,   133,   191,   212,   220,   373,   390,   429,\n",
      "       ...\n",
      "       88709, 88724, 88739, 88779, 88811, 88818, 88828, 88850, 88865, 88870],\n",
      "      dtype='int64', length=2691)\n"
     ]
    }
   ],
   "source": [
    "print(age_index)"
   ]
  },
  {
   "cell_type": "code",
   "execution_count": 62,
   "id": "d5462952-b075-42b9-a388-fbe238c125f7",
   "metadata": {},
   "outputs": [
    {
     "name": "stdout",
     "output_type": "stream",
     "text": [
      "Observations: 88883\n",
      "Variables: 85\n",
      "cat_cols: 54\n",
      "num_cols: 6\n",
      "cat_but_car: 25\n",
      "num_but_cat: 0\n"
     ]
    }
   ],
   "source": [
    "def remove_outlier(dataframe, col_name):\n",
    "    low_limit, up_limit = outlier_thresholds(dataframe, col_name)\n",
    "    df_without_outliers = dataframe[~((dataframe[col_name] < low_limit) | (dataframe[col_name] > up_limit))]\n",
    "    return df_without_outliers\n",
    "\n",
    "\n",
    "\n",
    "\n",
    "cat_cols, num_cols, cat_but_car = grab_col_names(df)"
   ]
  },
  {
   "cell_type": "code",
   "execution_count": 63,
   "id": "0414ba56-d652-4af7-be64-74d98b00896f",
   "metadata": {},
   "outputs": [],
   "source": [
    "num_cols.remove('CodeRevHrs')\n",
    "\n",
    "for col in num_cols:\n",
    "    df = remove_outlier(df,col)"
   ]
  },
  {
   "cell_type": "code",
   "execution_count": 64,
   "id": "198bc413-d774-49c8-819a-ae93ca921c84",
   "metadata": {},
   "outputs": [
    {
     "name": "stdout",
     "output_type": "stream",
     "text": [
      "(60896, 85)\n"
     ]
    }
   ],
   "source": [
    "print(df.shape)"
   ]
  },
  {
   "cell_type": "code",
   "execution_count": 68,
   "id": "a7ad81d7-a15e-4cbc-a7bb-09d5796842b9",
   "metadata": {},
   "outputs": [],
   "source": [
    "df[\"variable\"] = \"\"\n",
    "def replace_with_thresholds(dataframe, variable):\n",
    "    low_limit, up_limit = outlier_thresholds(dataframe, variable)\n",
    "    dataframe.loc[(dataframe[variable] < low_limit), variable] = low_limit\n",
    "    dataframe.loc[(dataframe[variable] > up_limit), variable] = up_limit"
   ]
  },
  {
   "cell_type": "code",
   "execution_count": 69,
   "id": "f9433cf9-1d63-4dac-8c0b-370ab8c17831",
   "metadata": {},
   "outputs": [],
   "source": [
    "for col in num_cols:\n",
    "    replace_with_thresholds(df, col)"
   ]
  },
  {
   "cell_type": "code",
   "execution_count": 70,
   "id": "30159b78-c7b3-47cd-87cc-5bc3bfb8dd2c",
   "metadata": {},
   "outputs": [
    {
     "name": "stdout",
     "output_type": "stream",
     "text": [
      "Respondent False\n",
      "CompTotal False\n",
      "ConvertedComp False\n",
      "WorkWeekHrs False\n",
      "Age False\n"
     ]
    }
   ],
   "source": [
    "for col in num_cols:\n",
    "    print(col, check_outlier(df, col))"
   ]
  }
 ],
 "metadata": {
  "kernelspec": {
   "display_name": "Python 3 (ipykernel)",
   "language": "python",
   "name": "python3"
  },
  "language_info": {
   "codemirror_mode": {
    "name": "ipython",
    "version": 3
   },
   "file_extension": ".py",
   "mimetype": "text/x-python",
   "name": "python",
   "nbconvert_exporter": "python",
   "pygments_lexer": "ipython3",
   "version": "3.11.7"
  }
 },
 "nbformat": 4,
 "nbformat_minor": 5
}
